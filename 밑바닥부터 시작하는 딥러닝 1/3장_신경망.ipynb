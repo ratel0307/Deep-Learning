{
  "nbformat": 4,
  "nbformat_minor": 0,
  "metadata": {
    "colab": {
      "provenance": [],
      "mount_file_id": "1MGgjTrG-4somJyE-6Nb2YvFbCNTovP7F",
      "authorship_tag": "ABX9TyN2DIVZElIIVvNXpxxUzSSX",
      "include_colab_link": true
    },
    "kernelspec": {
      "name": "python3",
      "display_name": "Python 3"
    },
    "language_info": {
      "name": "python"
    }
  },
  "cells": [
    {
      "cell_type": "markdown",
      "metadata": {
        "id": "view-in-github",
        "colab_type": "text"
      },
      "source": [
        "<a href=\"https://colab.research.google.com/github/ratel0307/Deep-Learning/blob/main/3%EC%9E%A5_%EC%8B%A0%EA%B2%BD%EB%A7%9D.ipynb\" target=\"_parent\"><img src=\"https://colab.research.google.com/assets/colab-badge.svg\" alt=\"Open In Colab\"/></a>"
      ]
    },
    {
      "cell_type": "markdown",
      "source": [
        "## 3.1 퍼셉트론에서 신경망으로"
      ],
      "metadata": {
        "id": "ZDGjTND4uCOg"
      }
    },
    {
      "cell_type": "markdown",
      "source": [
        "## 3.2 활성화 함수"
      ],
      "metadata": {
        "id": "3m0rwV7twGJp"
      }
    },
    {
      "cell_type": "code",
      "execution_count": null,
      "metadata": {
        "id": "aPEjiBsHuBZa"
      },
      "outputs": [],
      "source": [
        "# 3.2.1 시그모이드 함수\n",
        "\n",
        "# 3.2.2 계단 함수 구현하기\n",
        "\n",
        "def step_function(x):\n",
        "  if x > 0:\n",
        "    return 1\n",
        "  else:\n",
        "    return 0"
      ]
    },
    {
      "cell_type": "code",
      "source": [
        "import numpy as np\n",
        "\n",
        "#넘파이 배열이 x에 대입될 수 있도록 만듦!\n",
        "def step_function(x):\n",
        "  y = x > 0 # 불타입으로 y가 나옴\n",
        "  return y.astype(np.int) #True -> 1, False -> 0으로 바꿔줌"
      ],
      "metadata": {
        "id": "U-c4rZbEyAgG"
      },
      "execution_count": null,
      "outputs": []
    },
    {
      "cell_type": "code",
      "source": [
        "import numpy as np\n",
        "x = np.array([-1.0, 1.0, 2.0])\n",
        "x"
      ],
      "metadata": {
        "colab": {
          "base_uri": "https://localhost:8080/"
        },
        "id": "clKjdmYtyMPF",
        "outputId": "3430f6f6-9267-4287-fec8-4968ab59c968"
      },
      "execution_count": null,
      "outputs": [
        {
          "output_type": "execute_result",
          "data": {
            "text/plain": [
              "array([-1.,  1.,  2.])"
            ]
          },
          "metadata": {},
          "execution_count": 5
        }
      ]
    },
    {
      "cell_type": "code",
      "source": [
        "y = x > 0\n",
        "y"
      ],
      "metadata": {
        "colab": {
          "base_uri": "https://localhost:8080/"
        },
        "id": "6VJ9TsUXzrSA",
        "outputId": "c20c43e1-6cc8-4cb3-9f43-c62127fb01c4"
      },
      "execution_count": null,
      "outputs": [
        {
          "output_type": "execute_result",
          "data": {
            "text/plain": [
              "array([False,  True,  True])"
            ]
          },
          "metadata": {},
          "execution_count": 7
        }
      ]
    },
    {
      "cell_type": "code",
      "source": [
        "y.astype(int) #책에서 쓴 np.int는 이제 작동 안 함! 그냥 int로 적기"
      ],
      "metadata": {
        "colab": {
          "base_uri": "https://localhost:8080/"
        },
        "id": "vyDgYLiczsO5",
        "outputId": "9323dae9-96f7-4224-f661-278e40fe0c58"
      },
      "execution_count": null,
      "outputs": [
        {
          "output_type": "execute_result",
          "data": {
            "text/plain": [
              "array([0, 1, 1])"
            ]
          },
          "metadata": {},
          "execution_count": 11
        }
      ]
    },
    {
      "cell_type": "code",
      "source": [
        "# 3.2.3 계단 함수의 그래프\n",
        "\n",
        "import numpy as np\n",
        "import matplotlib.pylab as plt\n",
        "\n",
        "\n",
        "def step_function(x):\n",
        "    return np.array(x > 0, dtype=int) #마찬가지로!\n",
        "\n",
        "X = np.arange(-5.0, 5.0, 0.1)\n",
        "Y = step_function(X)\n",
        "plt.plot(X, Y)\n",
        "plt.ylim(-0.1, 1.1)  # y축의 범위 지정\n",
        "plt.show()"
      ],
      "metadata": {
        "colab": {
          "base_uri": "https://localhost:8080/",
          "height": 430
        },
        "id": "_X_O2DO-zyBy",
        "outputId": "3c740e5f-36b0-4ba8-e568-7e265281d390"
      },
      "execution_count": null,
      "outputs": [
        {
          "output_type": "display_data",
          "data": {
            "text/plain": [
              "<Figure size 640x480 with 1 Axes>"
            ],
            "image/png": "[encoded data removed]"
          },
          "metadata": {}
        }
      ]
    },
    {
      "cell_type": "code",
      "source": [
        "# 3.2.4 시그모이드 함수 구현하기\n",
        "\n",
        "def sigmoid(x):\n",
        "  return 1 / (1 + np.exp(-x))"
      ],
      "metadata": {
        "id": "TxgAmjZj0acA"
      },
      "execution_count": null,
      "outputs": []
    },
    {
      "cell_type": "code",
      "source": [
        "x = np.array([-1.0, 1.0, 2.0])\n",
        "sigmoid(x)"
      ],
      "metadata": {
        "colab": {
          "base_uri": "https://localhost:8080/"
        },
        "id": "pV1vuGn001Po",
        "outputId": "6748020b-1141-47e1-d392-4fa46c8bb8fb"
      },
      "execution_count": null,
      "outputs": [
        {
          "output_type": "execute_result",
          "data": {
            "text/plain": [
              "array([0.26894142, 0.73105858, 0.88079708])"
            ]
          },
          "metadata": {},
          "execution_count": 15
        }
      ]
    },
    {
      "cell_type": "code",
      "source": [
        "t = np.array([1.0, 2.0, 3.0])\n",
        "1.0 + t"
      ],
      "metadata": {
        "colab": {
          "base_uri": "https://localhost:8080/"
        },
        "id": "hkz6v_Y007hY",
        "outputId": "a0b888a0-ecbe-4695-81b1-e7fce8decf51"
      },
      "execution_count": null,
      "outputs": [
        {
          "output_type": "execute_result",
          "data": {
            "text/plain": [
              "array([2., 3., 4.])"
            ]
          },
          "metadata": {},
          "execution_count": 16
        }
      ]
    },
    {
      "cell_type": "code",
      "source": [
        "1.0 / t"
      ],
      "metadata": {
        "colab": {
          "base_uri": "https://localhost:8080/"
        },
        "id": "BeCtrHex1Em-",
        "outputId": "d284ab93-48f3-4706-a748-0b7b832ee14d"
      },
      "execution_count": null,
      "outputs": [
        {
          "output_type": "execute_result",
          "data": {
            "text/plain": [
              "array([1.        , 0.5       , 0.33333333])"
            ]
          },
          "metadata": {},
          "execution_count": 17
        }
      ]
    },
    {
      "cell_type": "code",
      "source": [
        "def sigmoid(x):\n",
        "    return 1 / (1 + np.exp(-x))\n",
        "\n",
        "X = np.arange(-5.0, 5.0, 0.1)\n",
        "Y = sigmoid(X)\n",
        "plt.plot(X, Y)\n",
        "plt.ylim(-0.1, 1.1)\n",
        "plt.show()"
      ],
      "metadata": {
        "colab": {
          "base_uri": "https://localhost:8080/",
          "height": 430
        },
        "id": "h5kiKlex1F6d",
        "outputId": "cde2d4cb-39dc-4b7c-ac3c-105fbc2e312a"
      },
      "execution_count": null,
      "outputs": [
        {
          "output_type": "display_data",
          "data": {
            "text/plain": [
              "<Figure size 640x480 with 1 Axes>"
            ],
            "image/png": "[encoded data removed]"
          },
          "metadata": {}
        }
      ]
    },
    {
      "cell_type": "code",
      "source": [
        "# 3.2.5 시그모이드 함수와 계단 함수 비교\n",
        "\n",
        "# 3.2.6 비선형 함수\n",
        "\n",
        "# 3.2.7 ReLU 함수\n",
        "\n",
        "def relu(x):\n",
        "  return np.maximum(0, x)"
      ],
      "metadata": {
        "id": "BwVLpkwa1MKL"
      },
      "execution_count": null,
      "outputs": []
    },
    {
      "cell_type": "markdown",
      "source": [
        "## 3.3 다차원 배열의 계산"
      ],
      "metadata": {
        "id": "URvu3Rzd3X8g"
      }
    },
    {
      "cell_type": "code",
      "source": [
        "# 3.3.1 다차원 배열\n",
        "\n",
        "# 1차원 배열\n",
        "\n",
        "import numpy as np\n",
        "A = np.array([1, 2, 3, 4])\n",
        "print(A)\n",
        "print(np.ndim(A))\n",
        "print(A.shape)\n",
        "print(A.shape[0])"
      ],
      "metadata": {
        "colab": {
          "base_uri": "https://localhost:8080/"
        },
        "id": "tv5Cqxuv3VMT",
        "outputId": "9787364c-6058-41ea-a238-7846e64e8816"
      },
      "execution_count": null,
      "outputs": [
        {
          "output_type": "stream",
          "name": "stdout",
          "text": [
            "[1 2 3 4]\n",
            "1\n",
            "(4,)\n",
            "4\n"
          ]
        }
      ]
    },
    {
      "cell_type": "code",
      "source": [
        "# 2차원 배열\n",
        "\n",
        "B = np.array([[1, 2], [3, 4], [5, 6]])\n",
        "print(B)\n",
        "print(np.ndim(B))\n",
        "print(B.shape)"
      ],
      "metadata": {
        "colab": {
          "base_uri": "https://localhost:8080/"
        },
        "id": "dJ2AxBC83kdY",
        "outputId": "5574163c-16f8-4327-b57c-d1a1eeba111b"
      },
      "execution_count": null,
      "outputs": [
        {
          "output_type": "stream",
          "name": "stdout",
          "text": [
            "[[1 2]\n",
            " [3 4]\n",
            " [5 6]]\n",
            "2\n",
            "(3, 2)\n"
          ]
        }
      ]
    },
    {
      "cell_type": "code",
      "source": [
        "# 3.3.2 행렬의 곱\n",
        "\n",
        "A = np.array([[1, 2], [3, 4]])\n",
        "print(A.shape)\n",
        "B = np.array([[5, 6], [7, 8]])\n",
        "print(B.shape)\n",
        "np.dot(A, B)"
      ],
      "metadata": {
        "colab": {
          "base_uri": "https://localhost:8080/"
        },
        "id": "7S8BAIwB36qE",
        "outputId": "818f8d36-d3cf-41bf-eb55-8e8dea5800e2"
      },
      "execution_count": null,
      "outputs": [
        {
          "output_type": "stream",
          "name": "stdout",
          "text": [
            "(2, 2)\n",
            "(2, 2)\n"
          ]
        },
        {
          "output_type": "execute_result",
          "data": {
            "text/plain": [
              "array([[19, 22],\n",
              "       [43, 50]])"
            ]
          },
          "metadata": {},
          "execution_count": 23
        }
      ]
    },
    {
      "cell_type": "code",
      "source": [
        "A = np.array([[1, 2, 3], [4, 5, 6]])\n",
        "print(A.shape)\n",
        "B = np.array([[1, 2], [3, 4], [5, 6]])\n",
        "print(B.shape)\n",
        "np.dot(A, B)"
      ],
      "metadata": {
        "colab": {
          "base_uri": "https://localhost:8080/"
        },
        "id": "s9ClgINx4GNy",
        "outputId": "44eb5fbb-18f2-473b-9c68-1f6594ee5634"
      },
      "execution_count": null,
      "outputs": [
        {
          "output_type": "stream",
          "name": "stdout",
          "text": [
            "(2, 3)\n",
            "(3, 2)\n"
          ]
        },
        {
          "output_type": "execute_result",
          "data": {
            "text/plain": [
              "array([[22, 28],\n",
              "       [49, 64]])"
            ]
          },
          "metadata": {},
          "execution_count": 24
        }
      ]
    },
    {
      "cell_type": "code",
      "source": [
        "C = np.array([[1, 2], [3, 4]])\n",
        "print(C.shape)\n",
        "print(A.shape)\n",
        "np.dot(A, C)"
      ],
      "metadata": {
        "colab": {
          "base_uri": "https://localhost:8080/",
          "height": 219
        },
        "id": "ISQVF3Cb4YjL",
        "outputId": "a0c44800-dcb7-4bc0-fba4-f16823bc8ffd"
      },
      "execution_count": null,
      "outputs": [
        {
          "output_type": "stream",
          "name": "stdout",
          "text": [
            "(2, 2)\n",
            "(2, 3)\n"
          ]
        },
        {
          "output_type": "error",
          "ename": "ValueError",
          "evalue": "shapes (2,3) and (2,2) not aligned: 3 (dim 1) != 2 (dim 0)",
          "traceback": [
            "\u001b[0;31m---------------------------------------------------------------------------\u001b[0m",
            "\u001b[0;31mValueError\u001b[0m                                Traceback (most recent call last)",
            "\u001b[0;32m<ipython-input-25-148fb116f304>\u001b[0m in \u001b[0;36m<cell line: 4>\u001b[0;34m()\u001b[0m\n\u001b[1;32m      2\u001b[0m \u001b[0mprint\u001b[0m\u001b[0;34m(\u001b[0m\u001b[0mC\u001b[0m\u001b[0;34m.\u001b[0m\u001b[0mshape\u001b[0m\u001b[0;34m)\u001b[0m\u001b[0;34m\u001b[0m\u001b[0;34m\u001b[0m\u001b[0m\n\u001b[1;32m      3\u001b[0m \u001b[0mprint\u001b[0m\u001b[0;34m(\u001b[0m\u001b[0mA\u001b[0m\u001b[0;34m.\u001b[0m\u001b[0mshape\u001b[0m\u001b[0;34m)\u001b[0m\u001b[0;34m\u001b[0m\u001b[0;34m\u001b[0m\u001b[0m\n\u001b[0;32m----> 4\u001b[0;31m \u001b[0mnp\u001b[0m\u001b[0;34m.\u001b[0m\u001b[0mdot\u001b[0m\u001b[0;34m(\u001b[0m\u001b[0mA\u001b[0m\u001b[0;34m,\u001b[0m \u001b[0mC\u001b[0m\u001b[0;34m)\u001b[0m\u001b[0;34m\u001b[0m\u001b[0;34m\u001b[0m\u001b[0m\n\u001b[0m",
            "\u001b[0;31mValueError\u001b[0m: shapes (2,3) and (2,2) not aligned: 3 (dim 1) != 2 (dim 0)"
          ]
        }
      ]
    },
    {
      "cell_type": "code",
      "source": [
        "A = np.array([[1, 2], [3, 4], [5, 6]])\n",
        "print(A.shape)\n",
        "B = np.array([7, 8])\n",
        "print(B.shape)\n",
        "np.dot(A, B) #1차원 벡터면 계산에 따라 행 벡터 또는 열 벡터로 유연하게 변환된다"
      ],
      "metadata": {
        "colab": {
          "base_uri": "https://localhost:8080/"
        },
        "id": "XYi84fKq4iM5",
        "outputId": "dbafd40e-0564-4904-f382-ac90f35b88e2"
      },
      "execution_count": null,
      "outputs": [
        {
          "output_type": "stream",
          "name": "stdout",
          "text": [
            "(3, 2)\n",
            "(2,)\n"
          ]
        },
        {
          "output_type": "execute_result",
          "data": {
            "text/plain": [
              "array([23, 53, 83])"
            ]
          },
          "metadata": {},
          "execution_count": 27
        }
      ]
    },
    {
      "cell_type": "code",
      "source": [
        "# 3.3.3 신경망에서의 행렬 곱\n",
        "\n",
        "X = np.array([1, 2])\n",
        "print(X.shape)\n",
        "W = np.array([[1, 3, 5], [2, 4, 6]])\n",
        "print(W)\n",
        "print(W.shape)\n",
        "Y = np.dot(X, W)\n",
        "print(Y)"
      ],
      "metadata": {
        "colab": {
          "base_uri": "https://localhost:8080/"
        },
        "id": "ELAcYwYl5HNX",
        "outputId": "633a3f98-b9a0-46fa-ec3c-3fccfaef0fa0"
      },
      "execution_count": null,
      "outputs": [
        {
          "output_type": "stream",
          "name": "stdout",
          "text": [
            "(2,)\n",
            "[[1 3 5]\n",
            " [2 4 6]]\n",
            "(2, 3)\n",
            "[ 5 11 17]\n"
          ]
        }
      ]
    },
    {
      "cell_type": "markdown",
      "source": [
        "## 3.4 3층 신경망 구현하기"
      ],
      "metadata": {
        "id": "wjUYk09G6puE"
      }
    },
    {
      "cell_type": "code",
      "source": [
        "# 3.4.2 각 층의 신호 전달 구현하기\n",
        "\n",
        "X = np.array([1.0, 0.5])\n",
        "W1 = np.array([[0.1, 0.3, 0.5], [0.2, 0.4, 0.6]])\n",
        "B1 = np.array([0.1, 0.2, 0.3])\n",
        "\n",
        "print(W1.shape)\n",
        "print(X.shape)\n",
        "print(B1.shape)\n",
        "\n",
        "A1 = np.dot(X, W1) + B1\n",
        "Z1 = sigmoid(A1)\n",
        "\n",
        "print(A1)\n",
        "print(Z1)"
      ],
      "metadata": {
        "colab": {
          "base_uri": "https://localhost:8080/"
        },
        "id": "NENzeqKQ6jNO",
        "outputId": "e62dfff7-e777-49c3-ce5a-ef3b0b521b14"
      },
      "execution_count": null,
      "outputs": [
        {
          "output_type": "stream",
          "name": "stdout",
          "text": [
            "(2, 3)\n",
            "(2,)\n",
            "(3,)\n",
            "[0.3 0.7 1.1]\n",
            "[0.57444252 0.66818777 0.75026011]\n"
          ]
        }
      ]
    },
    {
      "cell_type": "code",
      "source": [
        "W2 = np.array([[0.1, 0.4], [0.2, 0.5], [0.3, 0.6]])\n",
        "B2 = np.array([0.1, 0.2])\n",
        "\n",
        "print(Z1.shape)\n",
        "print(W2.shape)\n",
        "print(B2.shape)\n",
        "\n",
        "A2 = np.dot(Z1, W2) + B2\n",
        "Z2 = sigmoid(A2)"
      ],
      "metadata": {
        "colab": {
          "base_uri": "https://localhost:8080/"
        },
        "id": "-_N4czN0645W",
        "outputId": "ae89f8ac-b552-4045-9839-6e3fb5863f16"
      },
      "execution_count": null,
      "outputs": [
        {
          "output_type": "stream",
          "name": "stdout",
          "text": [
            "(3,)\n",
            "(3, 2)\n",
            "(2,)\n"
          ]
        }
      ]
    },
    {
      "cell_type": "code",
      "source": [
        "def identity_function(x):\n",
        "  return x\n",
        "\n",
        "W3 = np.array([[0.1, 0.3], [0.2, 0.4]])\n",
        "B3 = np.array([0.1, 0.2])\n",
        "\n",
        "A3 = np.dot(Z2, W3) + B3\n",
        "Y = identity_function(A3)"
      ],
      "metadata": {
        "id": "7WrSPXTq7Z9F"
      },
      "execution_count": null,
      "outputs": []
    },
    {
      "cell_type": "code",
      "source": [
        "# 3.4.3 구현 정리\n",
        "\n",
        "def init_network(): #가중치와 편향을 초기화하고 이들을 딕셔너리 변수인 network에 저장\n",
        "  network = {} #각 층에 필요한 매개변수를 저장\n",
        "  network['W1'] = np.array([[0.1, 0.3, 0.5], [0.2, 0.4, 0.6]])\n",
        "  network['b1'] = np.array([0.1, 0.2, 0.3])\n",
        "  network['W2'] = np.array([[0.1, 0.4], [0.2, 0.5], [0.3, 0.6]])\n",
        "  network['b2'] = np.array([0.1, 0.2])\n",
        "  network['W3'] = np.array([[0.1, 0.3], [0.2, 0.4]])\n",
        "  network['b3'] = np.array([0.1, 0.2])\n",
        "\n",
        "  return network\n",
        "\n",
        "def forward(network, x):\n",
        "  W1, W2, W3 = network['W1'], network['W2'], network['W3']\n",
        "  b1, b2, b3 = network['b1'], network['b2'], network['b3']\n",
        "\n",
        "  a1 = np.dot(x, W1) + b1\n",
        "  z1 = sigmoid(a1)\n",
        "  a2 = np.dot(z1, W2) + b2\n",
        "  z2 = sigmoid(a2)\n",
        "  a3 = np.dot(z2, W3) + b3\n",
        "  y = identity_function(a3)\n",
        "\n",
        "  return y\n",
        "\n",
        "network = init_network()\n",
        "x = np.array([1.0, 0.5])\n",
        "y = forward(network, x)\n",
        "print(y)"
      ],
      "metadata": {
        "colab": {
          "base_uri": "https://localhost:8080/"
        },
        "id": "ZGcwUOHn71NR",
        "outputId": "acdb640e-b9dd-4627-830d-4f89c75d4bf9"
      },
      "execution_count": null,
      "outputs": [
        {
          "output_type": "stream",
          "name": "stdout",
          "text": [
            "[0.31682708 0.69627909]\n"
          ]
        }
      ]
    },
    {
      "cell_type": "markdown",
      "source": [
        "## 3.5 출력층 설계하기"
      ],
      "metadata": {
        "id": "z8vllmbA89ea"
      }
    },
    {
      "cell_type": "code",
      "source": [
        "# 3.5.1 항등 함수와 소프트맥스 함수 구현하기\n",
        "\n",
        "import numpy as np\n",
        "a = np.array([0.3, 2.9, 4.0])\n",
        "\n",
        "exp_a = np.exp(a)\n",
        "print(exp_a)\n",
        "\n",
        "sum_exp_a = np.sum(exp_a)\n",
        "print(sum_exp_a)\n",
        "\n",
        "y = exp_a / sum_exp_a\n",
        "print(y)"
      ],
      "metadata": {
        "id": "jqlexgND89Ob",
        "colab": {
          "base_uri": "https://localhost:8080/"
        },
        "outputId": "5d56d032-abbc-4018-def0-37582ace3001"
      },
      "execution_count": null,
      "outputs": [
        {
          "output_type": "stream",
          "name": "stdout",
          "text": [
            "[ 1.34985881 18.17414537 54.59815003]\n",
            "74.1221542101633\n",
            "[0.01821127 0.24519181 0.73659691]\n"
          ]
        }
      ]
    },
    {
      "cell_type": "code",
      "source": [
        "def softmax(a):\n",
        "  exp_a = np.exp(a)\n",
        "  sum_exp_a = np.sum(exp_a)\n",
        "  y = exp_a / sum_exp_a\n",
        "\n",
        "  return y"
      ],
      "metadata": {
        "id": "rWf2NfPNtKzZ"
      },
      "execution_count": null,
      "outputs": []
    },
    {
      "cell_type": "code",
      "source": [
        "# 3.5.2 소프트맥스 함수 구현 시 주의점\n",
        "\n",
        "a = np.array([1010, 1000, 990])\n",
        "np.exp(a) / np.sum(np.exp(a))"
      ],
      "metadata": {
        "colab": {
          "base_uri": "https://localhost:8080/"
        },
        "id": "fNSvSoU6tYlx",
        "outputId": "901aea87-3649-4479-decf-52b1eb8d3063"
      },
      "execution_count": null,
      "outputs": [
        {
          "output_type": "stream",
          "name": "stderr",
          "text": [
            "<ipython-input-5-316dbb28ed63>:4: RuntimeWarning: overflow encountered in exp\n",
            "  np.exp(a) / np.sum(np.exp(a))\n",
            "<ipython-input-5-316dbb28ed63>:4: RuntimeWarning: invalid value encountered in divide\n",
            "  np.exp(a) / np.sum(np.exp(a))\n"
          ]
        },
        {
          "output_type": "execute_result",
          "data": {
            "text/plain": [
              "array([nan, nan, nan])"
            ]
          },
          "metadata": {},
          "execution_count": 5
        }
      ]
    },
    {
      "cell_type": "code",
      "source": [
        "c = np.max(a)\n",
        "a - c"
      ],
      "metadata": {
        "colab": {
          "base_uri": "https://localhost:8080/"
        },
        "id": "RQc_IZJauFDj",
        "outputId": "1a214f22-2c30-4697-a7e0-f5ae32520efb"
      },
      "execution_count": null,
      "outputs": [
        {
          "output_type": "execute_result",
          "data": {
            "text/plain": [
              "array([  0, -10, -20])"
            ]
          },
          "metadata": {},
          "execution_count": 6
        }
      ]
    },
    {
      "cell_type": "code",
      "source": [
        "np.exp(a - c) / np.sum(np.exp(a - c))"
      ],
      "metadata": {
        "colab": {
          "base_uri": "https://localhost:8080/"
        },
        "id": "fBs1qYg1uI96",
        "outputId": "c573b0ff-032a-4aea-cd9f-4c8596d746bf"
      },
      "execution_count": null,
      "outputs": [
        {
          "output_type": "execute_result",
          "data": {
            "text/plain": [
              "array([9.99954600e-01, 4.53978686e-05, 2.06106005e-09])"
            ]
          },
          "metadata": {},
          "execution_count": 7
        }
      ]
    },
    {
      "cell_type": "code",
      "source": [
        "def softmax(a):\n",
        "  c = np.max(a)\n",
        "  exp_a = np.exp(a - c)\n",
        "  sum_exp_a = np.sum(exp_a)\n",
        "  y = exp_a / sum_exp_a\n",
        "\n",
        "  return y"
      ],
      "metadata": {
        "id": "xSqzOfYmuPS6"
      },
      "execution_count": null,
      "outputs": []
    },
    {
      "cell_type": "code",
      "source": [
        "# 3.5.3 소프트맥스 함수의 특징\n",
        "\n",
        "a = np.array([0.3, 2.9, 4.0])\n",
        "y = softmax(a)\n",
        "print(y)\n",
        "np.sum(y)"
      ],
      "metadata": {
        "colab": {
          "base_uri": "https://localhost:8080/"
        },
        "id": "Za27RFXjuUMT",
        "outputId": "4bba049a-a58c-4a2e-f703-26554a8e67c0"
      },
      "execution_count": null,
      "outputs": [
        {
          "output_type": "stream",
          "name": "stdout",
          "text": [
            "[0.01821127 0.24519181 0.73659691]\n"
          ]
        },
        {
          "output_type": "execute_result",
          "data": {
            "text/plain": [
              "1.0"
            ]
          },
          "metadata": {},
          "execution_count": 9
        }
      ]
    },
    {
      "cell_type": "code",
      "source": [
        "# 3.5.4 출력층의 뉴런 수 정하기"
      ],
      "metadata": {
        "id": "kWJgsptquZXa"
      },
      "execution_count": null,
      "outputs": []
    },
    {
      "cell_type": "markdown",
      "source": [
        "## 3.6 손글씨 숫자 인식"
      ],
      "metadata": {
        "id": "KmpKH2alvLqk"
      }
    },
    {
      "cell_type": "code",
      "source": [
        "# 3.6.1 MNIST 데이터셋\n",
        "\n",
        "#MNIST 데이터 가져오기 -> 코랩으로 하면 책과 다르니 꼭 참고하시길 바랍니다!\n",
        "#제 구글드라이브와 동일하게 dataset 폴더를 생성하고 mnist.py와 4개의 .gz 파일을 다운 받으면 됩니다. 모르는 거 있으면 카톡방에 언제든지 물어보세요!\n",
        "\n",
        "import sys, os\n",
        "sys.path.append('/content/drive/MyDrive/deep-learning-from-scratch/dataset') #구글 드라이브와 연결합니다.\n",
        "from mnist import load_mnist #dataset.mnist가 아닌 그냥 mnist입니다!\n",
        "\n",
        "(x_train, t_train), (x_test, t_test) = load_mnist(flatten=True, normalize=False)\n",
        "\n",
        "print(x_train.shape)\n",
        "print(t_train.shape)\n",
        "print(x_test.shape)\n",
        "print(t_test.shape)"
      ],
      "metadata": {
        "colab": {
          "base_uri": "https://localhost:8080/"
        },
        "id": "_f5-nBKCvLC7",
        "outputId": "e85d8fbd-5506-448a-c88e-0dabbe177f2c"
      },
      "execution_count": null,
      "outputs": [
        {
          "output_type": "stream",
          "name": "stdout",
          "text": [
            "(60000, 784)\n",
            "(60000,)\n",
            "(10000, 784)\n",
            "(10000,)\n"
          ]
        }
      ]
    },
    {
      "cell_type": "markdown",
      "source": [
        "plt.imshow 함수는 matplotlib.pyplot 모듈에서 제공하는 함수로, 이미지를 시각화하는 데 사용됩니다. 이 함수는 2차원 데이터를 이미지 형식으로 화면에 출력해 줍니다. 주로 픽셀 값을 색상으로 변환하여 이미지를 표시하는 데 사용됩니다."
      ],
      "metadata": {
        "id": "6Op0ZPSu8eAS"
      }
    },
    {
      "cell_type": "code",
      "source": [
        "#MNIST 이미지를 화면으로 불러보기\n",
        "\n",
        "import sys, os\n",
        "import numpy as np\n",
        "import matplotlib.pyplot as plt #책에 나와있는 PIL이 아닌 matplotlib을 씁니다!\n",
        "sys.path.append('/content/drive/MyDrive/deep-learning-from-scratch/dataset')\n",
        "from mnist import load_mnist\n",
        "\n",
        "def img_show(img):\n",
        "    plt.imshow(img, cmap='gray')\n",
        "    plt.show()\n",
        "\n",
        "(x_train, t_train), (x_test, t_test) = load_mnist(flatten=True, normalize=False)\n",
        "\n",
        "img = x_train[0] #x_train의 0번째 데이터 확인\n",
        "label = t_train[0] #t_train의 0번째 데이터 확인\n",
        "print(label)  # 5\n",
        "\n",
        "print(img.shape)  # (784,)\n",
        "img = img.reshape(28, 28)  # 형상을 원래 이미지의 크기로 변형\n",
        "print(img.shape)  # (28, 28)\n",
        "\n",
        "img_show(img)"
      ],
      "metadata": {
        "colab": {
          "base_uri": "https://localhost:8080/",
          "height": 485
        },
        "id": "hM2Nb_RG6kK6",
        "outputId": "c4e96a8a-b26f-4b25-84fe-12759ce1a187"
      },
      "execution_count": null,
      "outputs": [
        {
          "output_type": "stream",
          "name": "stdout",
          "text": [
            "5\n",
            "(784,)\n",
            "(28, 28)\n"
          ]
        },
        {
          "output_type": "display_data",
          "data": {
            "text/plain": [
              "<Figure size 640x480 with 1 Axes>"
            ],
            "image/png": "[encoded data removed]"
          },
          "metadata": {}
        }
      ]
    },
    {
      "cell_type": "code",
      "source": [
        "# 3.6.2 신경망의 추론 처리\n",
        "\n",
        "import pickle\n",
        "def sigmoid(x):\n",
        "    return 1 / (1 + np.exp(-x))\n",
        "\n",
        "def get_data():\n",
        "    (x_train, t_train), (x_test, t_test) = load_mnist(normalize=True, flatten=True, one_hot_label=False) #normalize=True처럼 데이터를 특정 범위로 변환하는 처리를 정규화라고 함.\n",
        "    return x_test, t_test\n",
        "\n",
        "\n",
        "def init_network():\n",
        "    with open(\"/content/drive/MyDrive/deep-learning-from-scratch/ch03/sample_weight.pkl\", 'rb') as f:#ch3에 있는 sample_weight.pkl 다운받기! #이미 매개변수를 세팅해 놓음\n",
        "        network = pickle.load(f)\n",
        "\n",
        "    return network\n",
        "\n",
        "\n",
        "def predict(network, x):\n",
        "    W1, W2, W3 = network['W1'], network['W2'], network['W3']\n",
        "    b1, b2, b3 = network['b1'], network['b2'], network['b3']\n",
        "\n",
        "    a1 = np.dot(x, W1) + b1\n",
        "    z1 = sigmoid(a1)\n",
        "    a2 = np.dot(z1, W2) + b2\n",
        "    z2 = sigmoid(a2)\n",
        "    a3 = np.dot(z2, W3) + b3\n",
        "    y = softmax(a3)\n",
        "\n",
        "    return y"
      ],
      "metadata": {
        "id": "ZeBTyb858Iib"
      },
      "execution_count": null,
      "outputs": []
    },
    {
      "cell_type": "code",
      "source": [
        "# 정확도 평가!\n",
        "\n",
        "x, t = get_data()\n",
        "network = init_network()\n",
        "\n",
        "accuracy_cnt = 0\n",
        "\n",
        "for i in range(len(x)): #len(x) = 10000\n",
        "    y = predict(network, x[i])\n",
        "    p = np.argmax(y) # np.argmax(y): 확률이 가장 높은 원소의 '인덱스'를 얻는다.\n",
        "    if p == t[i]:\n",
        "        accuracy_cnt += 1\n",
        "\n",
        "print(\"Accuracy:\" + str(float(accuracy_cnt) / len(x)))"
      ],
      "metadata": {
        "colab": {
          "base_uri": "https://localhost:8080/"
        },
        "id": "f_TMj_6Q9Lcx",
        "outputId": "d7ecd81c-d283-499a-b8f9-5db162c7ce99"
      },
      "execution_count": null,
      "outputs": [
        {
          "output_type": "stream",
          "name": "stdout",
          "text": [
            "Accuracy:0.9352\n"
          ]
        }
      ]
    },
    {
      "cell_type": "code",
      "source": [
        "# 3.6.3 배치 처리\n",
        "\n",
        "# 신경망 각 층의 배열 형상의 추이\n",
        "\n",
        "x, t = get_data()\n",
        "network = init_network()\n",
        "W1, W2, W3 = network['W1'], network['W2'], network['W3']\n",
        "\n",
        "print(x.shape)\n",
        "print(x[0].shape)\n",
        "print(W1.shape)\n",
        "print(W2.shape)\n",
        "print(W3.shape)"
      ],
      "metadata": {
        "colab": {
          "base_uri": "https://localhost:8080/"
        },
        "id": "r4IM9o9H9CAs",
        "outputId": "e2617471-21d6-4819-ea50-08efe49e1e19"
      },
      "execution_count": null,
      "outputs": [
        {
          "output_type": "stream",
          "name": "stdout",
          "text": [
            "(10000, 784)\n",
            "(784,)\n",
            "(784, 50)\n",
            "(50, 100)\n",
            "(100, 10)\n"
          ]
        }
      ]
    },
    {
      "cell_type": "code",
      "source": [
        "x, t = get_data()\n",
        "network = init_network()\n",
        "\n",
        "batch_size = 100 # 배치 크기\n",
        "accuracy_cnt = 0\n",
        "\n",
        "for i in range(0, len(x), batch_size):\n",
        "    x_batch = x[i:i+batch_size]\n",
        "    y_batch = predict(network, x_batch)\n",
        "    p = np.argmax(y_batch, axis=1) #axis=1이란 가로 방향에서 가장 큰 원소의 인덱스 불러오기!\n",
        "    accuracy_cnt += np.sum(p == t[i:i+batch_size]) # ==연산자 사용해 True/False 구성된 bool 배열 만들고 True가 몇 갠지 np.sum으로 세기!\n",
        "\n",
        "print(\"Accuracy:\" + str(float(accuracy_cnt) / len(x)))\n",
        "\n",
        "# 배치 처리한다면 계산 속도 훨씬 빠른 걸 확인할 수 있죠?"
      ],
      "metadata": {
        "colab": {
          "base_uri": "https://localhost:8080/"
        },
        "id": "5f09Dj00ADM3",
        "outputId": "4aad93b1-542e-4b71-c5b7-9efb68b06dbd"
      },
      "execution_count": null,
      "outputs": [
        {
          "output_type": "stream",
          "name": "stdout",
          "text": [
            "Accuracy:0.9352\n"
          ]
        }
      ]
    }
  ]
}
