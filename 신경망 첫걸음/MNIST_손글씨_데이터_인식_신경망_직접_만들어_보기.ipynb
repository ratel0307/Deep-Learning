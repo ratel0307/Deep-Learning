{
  "nbformat": 4,
  "nbformat_minor": 0,
  "metadata": {
    "colab": {
      "provenance": [],
      "authorship_tag": "ABX9TyOHl8O9mzL3UxIZKSxpYevR",
      "include_colab_link": true
    },
    "kernelspec": {
      "name": "python3",
      "display_name": "Python 3"
    },
    "language_info": {
      "name": "python"
    }
  },
  "cells": [
    {
      "cell_type": "markdown",
      "metadata": {
        "id": "view-in-github",
        "colab_type": "text"
      },
      "source": [
        "<a href=\"https://colab.research.google.com/github/ratel0307/Deep-Learning/blob/main/MNIST_%EC%86%90%EA%B8%80%EC%94%A8_%EB%8D%B0%EC%9D%B4%ED%84%B0_%EC%9D%B8%EC%8B%9D_%EC%8B%A0%EA%B2%BD%EB%A7%9D_%EC%A7%81%EC%A0%91_%EB%A7%8C%EB%93%A4%EC%96%B4_%EB%B3%B4%EA%B8%B0.ipynb\" target=\"_parent\"><img src=\"https://colab.research.google.com/assets/colab-badge.svg\" alt=\"Open In Colab\"/></a>"
      ]
    },
    {
      "cell_type": "code",
      "execution_count": null,
      "metadata": {
        "id": "lY2UjBemLh-G"
      },
      "outputs": [],
      "source": [
        "data_file = open(\"/MNIST/mnist_train_100.csv\", 'r')\n",
        "data_list = data_file.readlines()\n",
        "data_file.close()"
      ]
    },
    {
      "cell_type": "code",
      "source": [
        "len(data_list)"
      ],
      "metadata": {
        "colab": {
          "base_uri": "https://localhost:8080/"
        },
        "id": "b3tttoOvI-Ca",
        "outputId": "531d68f7-e767-47b9-a734-78d81a9e896c"
      },
      "execution_count": null,
      "outputs": [
        {
          "output_type": "execute_result",
          "data": {
            "text/plain": [
              "100"
            ]
          },
          "metadata": {},
          "execution_count": 2
        }
      ]
    },
    {
      "cell_type": "code",
      "source": [
        "data_list[0]"
      ],
      "metadata": {
        "colab": {
          "base_uri": "https://localhost:8080/",
          "height": 126
        },
        "id": "CcBp9of3I_p_",
        "outputId": "eadf00cd-4891-444b-f026-a27fc628c6a1"
      },
      "execution_count": null,
      "outputs": [
        {
          "output_type": "execute_result",
          "data": {
            "text/plain": [
              "'5,0,0,0,0,0,0,0,0,0,0,0,0,0,0,0,0,0,0,0,0,0,0,0,0,0,0,0,0,0,0,0,0,0,0,0,0,0,0,0,0,0,0,0,0,0,0,0,0,0,0,0,0,0,0,0,0,0,0,0,0,0,0,0,0,0,0,0,0,0,0,0,0,0,0,0,0,0,0,0,0,0,0,0,0,0,0,0,0,0,0,0,0,0,0,0,0,0,0,0,0,0,0,0,0,0,0,0,0,0,0,0,0,0,0,0,0,0,0,0,0,0,0,0,0,0,0,0,0,0,0,0,0,0,0,0,0,0,0,0,0,0,0,0,0,0,0,0,0,0,0,0,0,3,18,18,18,126,136,175,26,166,255,247,127,0,0,0,0,0,0,0,0,0,0,0,0,30,36,94,154,170,253,253,253,253,253,225,172,253,242,195,64,0,0,0,0,0,0,0,0,0,0,0,49,238,253,253,253,253,253,253,253,253,251,93,82,82,56,39,0,0,0,0,0,0,0,0,0,0,0,0,18,219,253,253,253,253,253,198,182,247,241,0,0,0,0,0,0,0,0,0,0,0,0,0,0,0,0,0,0,80,156,107,253,253,205,11,0,43,154,0,0,0,0,0,0,0,0,0,0,0,0,0,0,0,0,0,0,0,14,1,154,253,90,0,0,0,0,0,0,0,0,0,0,0,0,0,0,0,0,0,0,0,0,0,0,0,0,0,139,253,190,2,0,0,0,0,0,0,0,0,0,0,0,0,0,0,0,0,0,0,0,0,0,0,0,0,11,190,253,70,0,0,0,0,0,0,0,0,0,0,0,0,0,0,0,0,0,0,0,0,0,0,0,0,0,35,241,225,160,108,1,0,0,0,0,0,0,0,0,0,0,0,0,0,0,0,0,0,0,0,0,0,0,0,81,240,253,253,119,25,0,0,0,0,0,0,0,0,0,0,0,0,0,0,0,0,0,0,0,0,0,0,0,45,186,253,253,150,27,0,0,0,0,0,0,0,0,0,0,0,0,0,0,0,0,0,0,0,0,0,0,0,16,93,252,253,187,0,0,0,0,0,0,0,0,0,0,0,0,0,0,0,0,0,0,0,0,0,0,0,0,0,249,253,249,64,0,0,0,0,0,0,0,0,0,0,0,0,0,0,0,0,0,0,0,0,0,46,130,183,253,253,207,2,0,0,0,0,0,0,0,0,0,0,0,0,0,0,0,0,0,0,0,39,148,229,253,253,253,250,182,0,0,0,0,0,0,0,0,0,0,0,0,0,0,0,0,0,0,24,114,221,253,253,253,253,201,78,0,0,0,0,0,0,0,0,0,0,0,0,0,0,0,0,0,23,66,213,253,253,253,253,198,81,2,0,0,0,0,0,0,0,0,0,0,0,0,0,0,0,0,18,171,219,253,253,253,253,195,80,9,0,0,0,0,0,0,0,0,0,0,0,0,0,0,0,0,55,172,226,253,253,253,253,244,133,11,0,0,0,0,0,0,0,0,0,0,0,0,0,0,0,0,0,0,136,253,253,253,212,135,132,16,0,0,0,0,0,0,0,0,0,0,0,0,0,0,0,0,0,0,0,0,0,0,0,0,0,0,0,0,0,0,0,0,0,0,0,0,0,0,0,0,0,0,0,0,0,0,0,0,0,0,0,0,0,0,0,0,0,0,0,0,0,0,0,0,0,0,0,0,0,0,0,0,0,0,0,0,0,0,0,0,0,0,0,0,0,0,0,0,0,0,0,0,0,0,0,0,0,0,0,0\\n'"
            ],
            "application/vnd.google.colaboratory.intrinsic+json": {
              "type": "string"
            }
          },
          "metadata": {},
          "execution_count": 3
        }
      ]
    },
    {
      "cell_type": "code",
      "source": [
        "import numpy as np\n",
        "import matplotlib.pyplot as plt\n",
        "\n",
        "all_values = data_list[0].split(',') #쉼표로 구분\n",
        "image_array = np.asfarray(all_values[1:]).reshape((28,28))\n",
        "plt.imshow(image_array, cmap='Greys', interpolation='None')"
      ],
      "metadata": {
        "colab": {
          "base_uri": "https://localhost:8080/",
          "height": 448
        },
        "id": "8E3xDbf3JBw_",
        "outputId": "9297bef0-77a3-4ff6-a804-e005e0e70884"
      },
      "execution_count": null,
      "outputs": [
        {
          "output_type": "execute_result",
          "data": {
            "text/plain": [
              "<matplotlib.image.AxesImage at 0x7c0cdd0d7df0>"
            ]
          },
          "metadata": {},
          "execution_count": 4
        },
        {
          "output_type": "display_data",
          "data": {
            "text/plain": [
              "<Figure size 640x480 with 1 Axes>"
            ],
            "image/png": "[encoded data removed]"
          },
          "metadata": {}
        }
      ]
    },
    {
      "cell_type": "code",
      "source": [
        "import numpy as np\n",
        "import matplotlib.pyplot as plt\n",
        "\n",
        "all_values = data_list[2].split(',') #쉼표로 구분\n",
        "image_array = np.asfarray(all_values[1:]).reshape((28,28))\n",
        "plt.imshow(image_array, cmap='Greys', interpolation='None')"
      ],
      "metadata": {
        "colab": {
          "base_uri": "https://localhost:8080/",
          "height": 448
        },
        "id": "61yudtKaLmZZ",
        "outputId": "34f0e3e0-527d-420f-df4d-e424bf4d4ed7"
      },
      "execution_count": null,
      "outputs": [
        {
          "output_type": "execute_result",
          "data": {
            "text/plain": [
              "<matplotlib.image.AxesImage at 0x7c0cdd05bfd0>"
            ]
          },
          "metadata": {},
          "execution_count": 5
        },
        {
          "output_type": "display_data",
          "data": {
            "text/plain": [
              "<Figure size 640x480 with 1 Axes>"
            ],
            "image/png": "[encoded data removed]"
          },
          "metadata": {}
        }
      ]
    },
    {
      "cell_type": "markdown",
      "source": [
        "##MNIST 학습 데이터 준비하기"
      ],
      "metadata": {
        "id": "wUNMbCP5L8Jv"
      }
    },
    {
      "cell_type": "code",
      "source": [
        "scaled_input = (np.asfarray(all_values[1:]) / 255.0 * 0.99) + 0.01 #범위 0.01 ~ 1.00\n",
        "print(scaled_input)"
      ],
      "metadata": {
        "colab": {
          "base_uri": "https://localhost:8080/"
        },
        "id": "OH-r3xDpLtHK",
        "outputId": "796fee94-c4bf-4d11-9e27-8015f61eac72"
      },
      "execution_count": null,
      "outputs": [
        {
          "output_type": "stream",
          "name": "stdout",
          "text": [
            "[0.01       0.01       0.01       0.01       0.01       0.01\n",
            " 0.01       0.01       0.01       0.01       0.01       0.01\n",
            " 0.01       0.01       0.01       0.01       0.01       0.01\n",
            " 0.01       0.01       0.01       0.01       0.01       0.01\n",
            " 0.01       0.01       0.01       0.01       0.01       0.01\n",
            " 0.01       0.01       0.01       0.01       0.01       0.01\n",
            " 0.01       0.01       0.01       0.01       0.01       0.01\n",
            " 0.01       0.01       0.01       0.01       0.01       0.01\n",
            " 0.01       0.01       0.01       0.01       0.01       0.01\n",
            " 0.01       0.01       0.01       0.01       0.01       0.01\n",
            " 0.01       0.01       0.01       0.01       0.01       0.01\n",
            " 0.01       0.01       0.01       0.01       0.01       0.01\n",
            " 0.01       0.01       0.01       0.01       0.01       0.01\n",
            " 0.01       0.01       0.01       0.01       0.01       0.01\n",
            " 0.01       0.01       0.01       0.01       0.01       0.01\n",
            " 0.01       0.01       0.01       0.01       0.01       0.01\n",
            " 0.01       0.01       0.01       0.01       0.01       0.01\n",
            " 0.01       0.01       0.01       0.01       0.01       0.01\n",
            " 0.01       0.01       0.01       0.01       0.01       0.01\n",
            " 0.01       0.01       0.01       0.01       0.01       0.01\n",
            " 0.01       0.01       0.01       0.01       0.01       0.01\n",
            " 0.01       0.01       0.01       0.01       0.01       0.01\n",
            " 0.01       0.01       0.01       0.01       0.01       0.01\n",
            " 0.01       0.01       0.01       0.01       0.01       0.01\n",
            " 0.01       0.01       0.01       0.01       0.01       0.01\n",
            " 0.01       0.01       0.01       0.01       0.01       0.01\n",
            " 0.01       0.01       0.01       0.01       0.27011765 0.91070588\n",
            " 0.16141176 0.01       0.01       0.01       0.01       0.01\n",
            " 0.01       0.01       0.01       0.01       0.25070588 0.32447059\n",
            " 0.01       0.01       0.01       0.01       0.01       0.01\n",
            " 0.01       0.01       0.01       0.01       0.01       0.01\n",
            " 0.01       0.01       0.47588235 0.70882353 0.16141176 0.01\n",
            " 0.01       0.01       0.01       0.01       0.01       0.01\n",
            " 0.01       0.01       0.49917647 0.64282353 0.01       0.01\n",
            " 0.01       0.01       0.01       0.01       0.01       0.01\n",
            " 0.01       0.01       0.01       0.01       0.01       0.01776471\n",
            " 0.604      0.82529412 0.16529412 0.01       0.01       0.01\n",
            " 0.01       0.01       0.01       0.01       0.01       0.01\n",
            " 0.86411765 0.64282353 0.01       0.01       0.01       0.01\n",
            " 0.01       0.01       0.01       0.01       0.01       0.01\n",
            " 0.01       0.01       0.01       0.11482353 0.99611765 0.63894118\n",
            " 0.01       0.01       0.01       0.01       0.01       0.01\n",
            " 0.01       0.01       0.01       0.01       0.87188235 0.64282353\n",
            " 0.01       0.01       0.01       0.01       0.01       0.01\n",
            " 0.01       0.01       0.01       0.01       0.01       0.01\n",
            " 0.01       0.72047059 0.99611765 0.49529412 0.01       0.01\n",
            " 0.01       0.01       0.01       0.01       0.01       0.01\n",
            " 0.01       0.18858824 0.96117647 0.64282353 0.01       0.01\n",
            " 0.01       0.01       0.01       0.01       0.01       0.01\n",
            " 0.01       0.01       0.01       0.01       0.01       0.77870588\n",
            " 0.99611765 0.22741176 0.01       0.01       0.01       0.01\n",
            " 0.01       0.01       0.01       0.01       0.01       0.47588235\n",
            " 0.99611765 0.64282353 0.01       0.01       0.01       0.01\n",
            " 0.01       0.01       0.01       0.01       0.01       0.01\n",
            " 0.01       0.01       0.09929412 0.90682353 0.99611765 0.12258824\n",
            " 0.01       0.01       0.01       0.01       0.01       0.01\n",
            " 0.01       0.01       0.01       0.62729412 0.99611765 0.47588235\n",
            " 0.01       0.01       0.01       0.01       0.01       0.01\n",
            " 0.01       0.01       0.01       0.01       0.01       0.01\n",
            " 0.64282353 0.99611765 0.84858824 0.07211765 0.01       0.01\n",
            " 0.01       0.01       0.01       0.01       0.01       0.01\n",
            " 0.01       0.62729412 0.99611765 0.27011765 0.01       0.01\n",
            " 0.01       0.01       0.01       0.01       0.01       0.01\n",
            " 0.01       0.06435294 0.34388235 0.70105882 0.97282353 0.99611765\n",
            " 0.36329412 0.01       0.01       0.01       0.01       0.01\n",
            " 0.01       0.01       0.01       0.01       0.01       0.62729412\n",
            " 0.99611765 0.34       0.01       0.01       0.01       0.19247059\n",
            " 0.20023529 0.46035294 0.56905882 0.59235294 0.94564706 0.95341176\n",
            " 0.91847059 0.70494118 0.94564706 0.98835294 0.16529412 0.01\n",
            " 0.01       0.01       0.01       0.01       0.01       0.01\n",
            " 0.01       0.01       0.01       0.59235294 0.99223529 0.93011765\n",
            " 0.81364706 0.81364706 0.81364706 0.99223529 0.99611765 0.98058824\n",
            " 0.94176471 0.77870588 0.56517647 0.36329412 0.11870588 0.02941176\n",
            " 0.91458824 0.98058824 0.01       0.01       0.01       0.01\n",
            " 0.01       0.01       0.01       0.01       0.01       0.01\n",
            " 0.01       0.01       0.472      0.69717647 0.69717647 0.69717647\n",
            " 0.69717647 0.69717647 0.39047059 0.22741176 0.01       0.01\n",
            " 0.01       0.01       0.01       0.406      0.99611765 0.86411765\n",
            " 0.01       0.01       0.01       0.01       0.01       0.01\n",
            " 0.01       0.01       0.01       0.01       0.01       0.01\n",
            " 0.01       0.01       0.01       0.01       0.01       0.01\n",
            " 0.01       0.01       0.01       0.01       0.01       0.01\n",
            " 0.01       0.66611765 0.99611765 0.54188235 0.01       0.01\n",
            " 0.01       0.01       0.01       0.01       0.01       0.01\n",
            " 0.01       0.01       0.01       0.01       0.01       0.01\n",
            " 0.01       0.01       0.01       0.01       0.01       0.01\n",
            " 0.01       0.01       0.01       0.01       0.01       0.66611765\n",
            " 0.99611765 0.23129412 0.01       0.01       0.01       0.01\n",
            " 0.01       0.01       0.01       0.01       0.01       0.01\n",
            " 0.01       0.01       0.01       0.01       0.01       0.01\n",
            " 0.01       0.01       0.01       0.01       0.01       0.01\n",
            " 0.01       0.01       0.01       0.66611765 0.99611765 0.23129412\n",
            " 0.01       0.01       0.01       0.01       0.01       0.01\n",
            " 0.01       0.01       0.01       0.01       0.01       0.01\n",
            " 0.01       0.01       0.01       0.01       0.01       0.01\n",
            " 0.01       0.01       0.01       0.01       0.01       0.01\n",
            " 0.01       0.66611765 1.         0.37494118 0.01       0.01\n",
            " 0.01       0.01       0.01       0.01       0.01       0.01\n",
            " 0.01       0.01       0.01       0.01       0.01       0.01\n",
            " 0.01       0.01       0.01       0.01       0.01       0.01\n",
            " 0.01       0.01       0.01       0.01       0.01       0.66611765\n",
            " 0.99611765 0.38270588 0.01       0.01       0.01       0.01\n",
            " 0.01       0.01       0.01       0.01       0.01       0.01\n",
            " 0.01       0.01       0.01       0.01       0.01       0.01\n",
            " 0.01       0.01       0.01       0.01       0.01       0.01\n",
            " 0.01       0.01       0.01       0.66611765 0.99611765 0.604\n",
            " 0.01       0.01       0.01       0.01       0.01       0.01\n",
            " 0.01       0.01       0.01       0.01       0.01       0.01\n",
            " 0.01       0.01       0.01       0.01       0.01       0.01\n",
            " 0.01       0.01       0.01       0.01       0.01       0.01\n",
            " 0.01       0.66611765 1.         0.604      0.01       0.01\n",
            " 0.01       0.01       0.01       0.01       0.01       0.01\n",
            " 0.01       0.01       0.01       0.01       0.01       0.01\n",
            " 0.01       0.01       0.01       0.01       0.01       0.01\n",
            " 0.01       0.01       0.01       0.01       0.01       0.38270588\n",
            " 0.99611765 0.604      0.01       0.01       0.01       0.01\n",
            " 0.01       0.01       0.01       0.01       0.01       0.01\n",
            " 0.01       0.01       0.01       0.01       0.01       0.01\n",
            " 0.01       0.01       0.01       0.01       0.01       0.01\n",
            " 0.01       0.01       0.01       0.01       0.01       0.01\n",
            " 0.01       0.01       0.01       0.01       0.01       0.01\n",
            " 0.01       0.01       0.01       0.01       0.01       0.01\n",
            " 0.01       0.01       0.01       0.01       0.01       0.01\n",
            " 0.01       0.01       0.01       0.01       0.01       0.01\n",
            " 0.01       0.01       0.01       0.01       0.01       0.01\n",
            " 0.01       0.01       0.01       0.01       0.01       0.01\n",
            " 0.01       0.01       0.01       0.01       0.01       0.01\n",
            " 0.01       0.01       0.01       0.01       0.01       0.01\n",
            " 0.01       0.01       0.01       0.01       0.01       0.01\n",
            " 0.01       0.01       0.01       0.01       0.01       0.01\n",
            " 0.01       0.01       0.01       0.01      ]\n"
          ]
        }
      ]
    },
    {
      "cell_type": "code",
      "source": [
        "#출력 노드는 10 (예시)\n",
        "onodes = 10\n",
        "targets = np.zeros(onodes) + 0.01\n",
        "targets[int(all_values[0])] = 0.99 #all_values[0] = 4\n",
        "\n",
        "print(targets)"
      ],
      "metadata": {
        "colab": {
          "base_uri": "https://localhost:8080/"
        },
        "id": "9_hIon5rMjz6",
        "outputId": "b5c17776-8b19-4dbd-8045-d4fd3a1740a4"
      },
      "execution_count": null,
      "outputs": [
        {
          "output_type": "stream",
          "name": "stdout",
          "text": [
            "[0.01 0.01 0.01 0.01 0.99 0.01 0.01 0.01 0.01 0.01]\n"
          ]
        }
      ]
    },
    {
      "cell_type": "markdown",
      "source": [
        "3계층의 신경망으로 MNIST 데이터를 학습하는 코드"
      ],
      "metadata": {
        "id": "ixj__25GOZlQ"
      }
    },
    {
      "cell_type": "code",
      "source": [
        "import numpy as np\n",
        "import scipy.special\n",
        "import matplotlib.pyplot as plt\n",
        "\n",
        "class neuralNetwork:\n",
        "\n",
        "  def __init__(self, inputnodes, hiddennodes, outputnodes, learningrate):\n",
        "\n",
        "    self.inodes = inputnodes\n",
        "    self.hnodes = hiddennodes\n",
        "    self.onodes = outputnodes\n",
        "\n",
        "    self.wih = np.random.normal(0.0, pow(self.hnodes, -0.5), (self.hnodes, self.inodes))\n",
        "    self.who = np.random.normal(0.0, pow(self.onodes, -0.5), (self.onodes, self.hnodes))\n",
        "\n",
        "    self.lr = learningrate\n",
        "\n",
        "    self.activation_function = lambda x: scipy.special.expit(x)\n",
        "\n",
        "    pass\n",
        "\n",
        "  def train(self, inputs_list, targets_list):\n",
        "  #입력 리스트를 2차원의 행렬로 변환\n",
        "    inputs = np.array(inputs_list, ndmin=2).T\n",
        "    targets = np.array(targets_list, ndmin=2).T\n",
        "\n",
        "    hidden_inputs = np.dot(self.wih, inputs)\n",
        "    hidden_outputs = self.activation_function(hidden_inputs)\n",
        "    final_inputs = np.dot(self.who, hidden_outputs)\n",
        "    final_outputs = self.activation_function(final_inputs)\n",
        "\n",
        "    output_errors = targets - final_outputs\n",
        "    hidden_errors = np.dot(self.who.T, output_errors)\n",
        "\n",
        "    #은닉 계층과 출력 계층 간의 가중치 업데이트\n",
        "    self.who += self.lr * np.dot((output_errors * final_outputs * (1.0  - final_outputs)), np.transpose(hidden_outputs))\n",
        "    #입력 계층과 은닉 계층 간의 가중치 업데이트\n",
        "    self.wih += self.lr * np.dot((hidden_errors * hidden_outputs * (1.0  - hidden_outputs)), np.transpose(inputs))\n",
        "\n",
        "    pass\n",
        "\n",
        "  def query(self, inputs_list):\n",
        "    #입력 리스트를 2차원 행렬로 변환\n",
        "    inputs = np.array(inputs_list, ndmin=2).T\n",
        "    hidden_inputs = np.dot(self.wih, inputs)\n",
        "    hidden_outputs = self.activation_function(hidden_inputs)\n",
        "    final_inputs = np.dot(self.who, hidden_outputs)\n",
        "    final_outputs = self.activation_function(final_inputs)\n",
        "\n",
        "    return final_outputs\n",
        "\n",
        "#입력, 은닉, 출력 노드의 수\n",
        "input_nodes = 784\n",
        "hidden_nodes = 100\n",
        "output_nodes = 10\n",
        "\n",
        "#학습률은 0.3\n",
        "learning_rate = 0.3\n",
        "\n",
        "#신경망의 인스턴스 생성\n",
        "n = neuralNetwork(input_nodes, hidden_nodes, output_nodes, learning_rate)\n",
        "\n",
        "#mnist 학습 데이터인 csv 파일을 리스트로 불러오기\n",
        "training_data_file = open(\"/MNIST/mnist_train_100.csv\", 'r')\n",
        "training_data_list = training_data_file.readlines()\n",
        "training_data_file.close()\n",
        "\n",
        "#신경망 학습시키기\n",
        "for record in training_data_list:\n",
        "  #레코드를 쉼표에 의해 분리\n",
        "  all_values = record.split(',')\n",
        "  #입력 값의 범위와 값 조정\n",
        "  inputs = (np.asfarray(all_values[1:]) / 255.0*0.99) + 0.01\n",
        "  #결과 값 생성\n",
        "  targets = np.zeros(output_nodes) + 0.01\n",
        "  #all_values[0]은 이 레코드에 대한 결과 값\n",
        "  targets[int(all_values[0])] = 0.99\n",
        "  n.train(inputs, targets)\n",
        "  pass\n",
        "\n"
      ],
      "metadata": {
        "id": "D0a3fuQXOd4L"
      },
      "execution_count": null,
      "outputs": []
    },
    {
      "cell_type": "markdown",
      "source": [
        "##신경망 테스트하기"
      ],
      "metadata": {
        "id": "eUbGWcunRZio"
      }
    },
    {
      "cell_type": "code",
      "source": [
        "test_data_file = open(\"/MNIST/mnist_test_10.csv\", \"r\")\n",
        "test_data_list = test_data_file.readlines()\n",
        "test_data_file.close()\n",
        "\n",
        "all_values = test_data_list[0].split(',')\n",
        "print(all_values[0])\n",
        "\n",
        "image_array = np.asfarray(all_values[1:]).reshape((28,28))\n",
        "plt.imshow(image_array, cmap='Greys', interpolation='None')"
      ],
      "metadata": {
        "colab": {
          "base_uri": "https://localhost:8080/",
          "height": 467
        },
        "id": "pduxbk9ePL0-",
        "outputId": "caece4a9-19a0-4d48-84e3-9eaec588b56f"
      },
      "execution_count": null,
      "outputs": [
        {
          "output_type": "stream",
          "name": "stdout",
          "text": [
            "7\n"
          ]
        },
        {
          "output_type": "execute_result",
          "data": {
            "text/plain": [
              "<matplotlib.image.AxesImage at 0x7b29445fcd30>"
            ]
          },
          "metadata": {},
          "execution_count": 3
        },
        {
          "output_type": "display_data",
          "data": {
            "text/plain": [
              "<Figure size 640x480 with 1 Axes>"
            ],
            "image/png": "[encoded data removed]"
          },
          "metadata": {}
        }
      ]
    },
    {
      "cell_type": "code",
      "source": [
        "n.query((np.asfarray(all_values[1:]) / 255.0 * 0.99) + 0.01)"
      ],
      "metadata": {
        "colab": {
          "base_uri": "https://localhost:8080/"
        },
        "id": "kwsrfNE8STXa",
        "outputId": "d1d51b5c-2172-4298-8b9c-41c8641c5aff"
      },
      "execution_count": null,
      "outputs": [
        {
          "output_type": "execute_result",
          "data": {
            "text/plain": [
              "array([[0.03217623],\n",
              "       [0.02169936],\n",
              "       [0.02683672],\n",
              "       [0.12452979],\n",
              "       [0.1436225 ],\n",
              "       [0.01732407],\n",
              "       [0.01147679],\n",
              "       [0.57364327],\n",
              "       [0.04445593],\n",
              "       [0.01651059]])"
            ]
          },
          "metadata": {},
          "execution_count": 4
        }
      ]
    },
    {
      "cell_type": "code",
      "source": [
        "#신경망 테스트\n",
        "\n",
        "#신경망의 성능의 지표가 되는 성적표를 아무 값도 가지지 않도록 초기화\n",
        "scorecard = []\n",
        "\n",
        "#테스트 데이터 모음 내의 모든 레코드 검색\n",
        "for record in test_data_list:\n",
        "  all_values = record.split(',')\n",
        "  #정답은 첫 번째 값\n",
        "  correct_label = int(all_values[0])\n",
        "  print(correct_label, \"correct label\")\n",
        "  #입력 값의 범위와 값 조정\n",
        "  inputs = (np.asfarray(all_values[1:]) / 255.0*0.99) + 0.01\n",
        "  #신경망에 질의\n",
        "  outputs = n.query(inputs)\n",
        "  #가장 높은 값의 인덱스는 레이블의 인덱스와 일치\n",
        "  label = np.argmax(outputs)\n",
        "  print(label, \"network's answer\")\n",
        "  #정답 또는 오답을 리스트에 추가\n",
        "  if (label == correct_label):\n",
        "    scorecard.append(1)\n",
        "  else:\n",
        "    scorecard.append(0)\n",
        "    pass\n",
        "  pass"
      ],
      "metadata": {
        "colab": {
          "base_uri": "https://localhost:8080/"
        },
        "id": "mVcRljd_9jEZ",
        "outputId": "b943b88c-e8ff-44c0-a9d1-cbbc8b9431c3"
      },
      "execution_count": null,
      "outputs": [
        {
          "output_type": "stream",
          "name": "stdout",
          "text": [
            "7 correct label\n",
            "7 network's answer\n",
            "2 correct label\n",
            "0 network's answer\n",
            "1 correct label\n",
            "1 network's answer\n",
            "0 correct label\n",
            "0 network's answer\n",
            "4 correct label\n",
            "4 network's answer\n",
            "1 correct label\n",
            "1 network's answer\n",
            "4 correct label\n",
            "4 network's answer\n",
            "9 correct label\n",
            "3 network's answer\n",
            "5 correct label\n",
            "4 network's answer\n",
            "9 correct label\n",
            "7 network's answer\n"
          ]
        }
      ]
    },
    {
      "cell_type": "code",
      "source": [
        "print(scorecard) #60점입니다..."
      ],
      "metadata": {
        "colab": {
          "base_uri": "https://localhost:8080/"
        },
        "id": "5cIz4sg7-885",
        "outputId": "59f113d7-39e8-417c-bf57-b9dfbd433666"
      },
      "execution_count": null,
      "outputs": [
        {
          "output_type": "stream",
          "name": "stdout",
          "text": [
            "[1, 0, 1, 1, 1, 1, 1, 0, 0, 0]\n"
          ]
        }
      ]
    },
    {
      "cell_type": "code",
      "source": [
        "#정답의 비율인 성적을 계산해 출력\n",
        "scorecard_array = np.array(scorecard)\n",
        "print(\"performance =\", scorecard_array.sum() / scorecard_array.size)"
      ],
      "metadata": {
        "colab": {
          "base_uri": "https://localhost:8080/"
        },
        "id": "_07m-brQ--Be",
        "outputId": "e5b708a7-ee06-43cc-b857-9cfba977863c"
      },
      "execution_count": null,
      "outputs": [
        {
          "output_type": "stream",
          "name": "stdout",
          "text": [
            "performance = 0.6\n"
          ]
        }
      ]
    },
    {
      "cell_type": "markdown",
      "source": [
        "##전체 데이터를 이용해 학습 및 테스트하기"
      ],
      "metadata": {
        "id": "PTvMg6iU_llC"
      }
    },
    {
      "cell_type": "code",
      "source": [
        "import numpy as np\n",
        "import scipy.special\n",
        "import matplotlib.pyplot as plt\n",
        "\n",
        "class neuralNetwork:\n",
        "\n",
        "  def __init__(self, inputnodes, hiddennodes, outputnodes, learningrate):\n",
        "\n",
        "    self.inodes = inputnodes\n",
        "    self.hnodes = hiddennodes\n",
        "    self.onodes = outputnodes\n",
        "\n",
        "    self.wih = np.random.normal(0.0, pow(self.hnodes, -0.5), (self.hnodes, self.inodes))\n",
        "    self.who = np.random.normal(0.0, pow(self.onodes, -0.5), (self.onodes, self.hnodes))\n",
        "\n",
        "    self.lr = learningrate\n",
        "\n",
        "    self.activation_function = lambda x: scipy.special.expit(x)\n",
        "\n",
        "    pass\n",
        "\n",
        "  def train(self, inputs_list, targets_list):\n",
        "  #입력 리스트를 2차원의 행렬로 변환\n",
        "    inputs = np.array(inputs_list, ndmin=2).T\n",
        "    targets = np.array(targets_list, ndmin=2).T\n",
        "\n",
        "    hidden_inputs = np.dot(self.wih, inputs)\n",
        "    hidden_outputs = self.activation_function(hidden_inputs)\n",
        "    final_inputs = np.dot(self.who, hidden_outputs)\n",
        "    final_outputs = self.activation_function(final_inputs)\n",
        "\n",
        "    output_errors = targets - final_outputs\n",
        "    hidden_errors = np.dot(self.who.T, output_errors)\n",
        "\n",
        "    #은닉 계층과 출력 계층 간의 가중치 업데이트\n",
        "    self.who += self.lr * np.dot((output_errors * final_outputs * (1.0  - final_outputs)), np.transpose(hidden_outputs))\n",
        "    #입력 계층과 은닉 계층 간의 가중치 업데이트\n",
        "    self.wih += self.lr * np.dot((hidden_errors * hidden_outputs * (1.0  - hidden_outputs)), np.transpose(inputs))\n",
        "\n",
        "    pass\n",
        "\n",
        "  def query(self, inputs_list):\n",
        "    #입력 리스트를 2차원 행렬로 변환\n",
        "    inputs = np.array(inputs_list, ndmin=2).T\n",
        "    hidden_inputs = np.dot(self.wih, inputs)\n",
        "    hidden_outputs = self.activation_function(hidden_inputs)\n",
        "    final_inputs = np.dot(self.who, hidden_outputs)\n",
        "    final_outputs = self.activation_function(final_inputs)\n",
        "\n",
        "    return final_outputs\n",
        "\n",
        "#입력, 은닉, 출력 노드의 수\n",
        "input_nodes = 784\n",
        "hidden_nodes = 100\n",
        "output_nodes = 10\n",
        "\n",
        "#학습률은 0.3\n",
        "learning_rate = 0.3\n",
        "\n",
        "#신경망의 인스턴스 생성\n",
        "n = neuralNetwork(input_nodes, hidden_nodes, output_nodes, learning_rate)\n",
        "\n",
        "#mnist 학습 데이터인 csv 파일을 리스트로 불러오기\n",
        "training_data_file = open(\"/MNIST/mnist_train.csv\", 'r')\n",
        "training_data_list = training_data_file.readlines()\n",
        "training_data_file.close()\n",
        "\n",
        "#신경망 학습시키기\n",
        "for record in training_data_list:\n",
        "  #레코드를 쉼표에 의해 분리\n",
        "  all_values = record.split(',')\n",
        "  #입력 값의 범위와 값 조정\n",
        "  inputs = (np.asfarray(all_values[1:]) / 255.0 * 0.99) + 0.01\n",
        "  #결과 값 생성\n",
        "  targets = np.zeros(output_nodes) + 0.01\n",
        "  #all_values[0]은 이 레코드에 대한 결과 값\n",
        "  targets[int(all_values[0])] = 0.99\n",
        "  n.train(inputs, targets)\n",
        "  pass\n",
        "\n",
        "\n",
        "test_data_file = open(\"/MNIST/mnist_test.csv\", \"r\")\n",
        "test_data_list = test_data_file.readlines()\n",
        "test_data_file.close()\n",
        "\n",
        "#신경망 테스트\n",
        "\n",
        "#신경망의 성능의 지표가 되는 성적표를 아무 값도 가지지 않도록 초기화\n",
        "scorecard = []\n",
        "\n",
        "#테스트 데이터 모음 내의 모든 레코드 검색\n",
        "for record in test_data_list:\n",
        "  all_values = record.split(',')\n",
        "  #정답은 첫 번째 값\n",
        "  correct_label = int(all_values[0])\n",
        "  #입력 값의 범위와 값 조정\n",
        "  inputs = (np.asfarray(all_values[1:]) / 255.0*0.99) + 0.01\n",
        "  #신경망에 질의\n",
        "  outputs = n.query(inputs)\n",
        "  #가장 높은 값의 인덱스는 레이블의 인덱스와 일치\n",
        "  label = np.argmax(outputs)\n",
        "  #정답 또는 오답을 리스트에 추가\n",
        "  if (label == correct_label):\n",
        "    scorecard.append(1)\n",
        "  else:\n",
        "    scorecard.append(0)\n",
        "    pass\n",
        "  pass\n",
        "\n",
        "\n",
        "scorecard_array = np.asarray(scorecard)\n",
        "\n",
        "print(\"performance =\", scorecard_array.sum() / scorecard_array.size)"
      ],
      "metadata": {
        "id": "FIPFs-XT_hbh",
        "colab": {
          "base_uri": "https://localhost:8080/",
          "height": 220
        },
        "outputId": "f9e9946e-bb41-4252-99a6-daa482fcaf6c"
      },
      "execution_count": null,
      "outputs": [
        {
          "output_type": "error",
          "ename": "FileNotFoundError",
          "evalue": "[Errno 2] No such file or directory: '/MNIST/mnist_train.csv'",
          "traceback": [
            "\u001b[0;31m---------------------------------------------------------------------------\u001b[0m",
            "\u001b[0;31mFileNotFoundError\u001b[0m                         Traceback (most recent call last)",
            "\u001b[0;32m<ipython-input-2-315764a801af>\u001b[0m in \u001b[0;36m<cell line: 64>\u001b[0;34m()\u001b[0m\n\u001b[1;32m     62\u001b[0m \u001b[0;34m\u001b[0m\u001b[0m\n\u001b[1;32m     63\u001b[0m \u001b[0;31m#mnist 학습 데이터인 csv 파일을 리스트로 불러오기\u001b[0m\u001b[0;34m\u001b[0m\u001b[0;34m\u001b[0m\u001b[0m\n\u001b[0;32m---> 64\u001b[0;31m \u001b[0mtraining_data_file\u001b[0m \u001b[0;34m=\u001b[0m \u001b[0mopen\u001b[0m\u001b[0;34m(\u001b[0m\u001b[0;34m\"/MNIST/mnist_train.csv\"\u001b[0m\u001b[0;34m,\u001b[0m \u001b[0;34m'r'\u001b[0m\u001b[0;34m)\u001b[0m\u001b[0;34m\u001b[0m\u001b[0;34m\u001b[0m\u001b[0m\n\u001b[0m\u001b[1;32m     65\u001b[0m \u001b[0mtraining_data_list\u001b[0m \u001b[0;34m=\u001b[0m \u001b[0mtraining_data_file\u001b[0m\u001b[0;34m.\u001b[0m\u001b[0mreadlines\u001b[0m\u001b[0;34m(\u001b[0m\u001b[0;34m)\u001b[0m\u001b[0;34m\u001b[0m\u001b[0;34m\u001b[0m\u001b[0m\n\u001b[1;32m     66\u001b[0m \u001b[0mtraining_data_file\u001b[0m\u001b[0;34m.\u001b[0m\u001b[0mclose\u001b[0m\u001b[0;34m(\u001b[0m\u001b[0;34m)\u001b[0m\u001b[0;34m\u001b[0m\u001b[0;34m\u001b[0m\u001b[0m\n",
            "\u001b[0;31mFileNotFoundError\u001b[0m: [Errno 2] No such file or directory: '/MNIST/mnist_train.csv'"
          ]
        }
      ]
    },
    {
      "cell_type": "code",
      "source": [
        "print(\"performance =\", scorecard_array.sum() / scorecard_array.size)"
      ],
      "metadata": {
        "id": "zEHtLHGqI6bn"
      },
      "execution_count": null,
      "outputs": []
    },
    {
      "cell_type": "markdown",
      "source": [
        "##여러 번 수행을 통한 신경망의 개선"
      ],
      "metadata": {
        "id": "SJwFRKbjdMoy"
      }
    },
    {
      "cell_type": "code",
      "source": [
        "#신경망 학습시키기\n",
        "\n",
        "#주기(epoch)란 학습 데이터가 학습을 위해 사용되는 횟수를 의미\n",
        "epochs = 2"
      ],
      "metadata": {
        "id": "xTFnuXkqdOyu"
      },
      "execution_count": null,
      "outputs": []
    },
    {
      "cell_type": "code",
      "source": [
        "import numpy as np\n",
        "import scipy.special\n",
        "import matplotlib.pyplot as plt\n",
        "\n",
        "class neuralNetwork:\n",
        "\n",
        "  def __init__(self, inputnodes, hiddennodes, outputnodes, learningrate):\n",
        "\n",
        "    self.inodes = inputnodes\n",
        "    self.hnodes = hiddennodes\n",
        "    self.onodes = outputnodes\n",
        "\n",
        "    self.wih = np.random.normal(0.0, pow(self.hnodes, -0.5), (self.hnodes, self.inodes))\n",
        "    self.who = np.random.normal(0.0, pow(self.onodes, -0.5), (self.onodes, self.hnodes))\n",
        "\n",
        "    self.lr = learningrate\n",
        "\n",
        "    self.activation_function = lambda x: scipy.special.expit(x)\n",
        "\n",
        "    pass\n",
        "\n",
        "  def train(self, inputs_list, targets_list):\n",
        "  #입력 리스트를 2차원의 행렬로 변환\n",
        "    inputs = np.array(inputs_list, ndmin=2).T\n",
        "    targets = np.array(targets_list, ndmin=2).T\n",
        "\n",
        "    hidden_inputs = np.dot(self.wih, inputs)\n",
        "    hidden_outputs = self.activation_function(hidden_inputs)\n",
        "    final_inputs = np.dot(self.who, hidden_outputs)\n",
        "    final_outputs = self.activation_function(final_inputs)\n",
        "\n",
        "    output_errors = targets - final_outputs\n",
        "    hidden_errors = np.dot(self.who.T, output_errors)\n",
        "\n",
        "    #은닉 계층과 출력 계층 간의 가중치 업데이트\n",
        "    self.who += self.lr * np.dot((output_errors * final_outputs * (1.0  - final_outputs)), np.transpose(hidden_outputs))\n",
        "    #입력 계층과 은닉 계층 간의 가중치 업데이트\n",
        "    self.wih += self.lr * np.dot((hidden_errors * hidden_outputs * (1.0  - hidden_outputs)), np.transpose(inputs))\n",
        "\n",
        "    pass\n",
        "\n",
        "  def query(self, inputs_list):\n",
        "    #입력 리스트를 2차원 행렬로 변환\n",
        "    inputs = np.array(inputs_list, ndmin=2).T\n",
        "    hidden_inputs = np.dot(self.wih, inputs)\n",
        "    hidden_outputs = self.activation_function(hidden_inputs)\n",
        "    final_inputs = np.dot(self.who, hidden_outputs)\n",
        "    final_outputs = self.activation_function(final_inputs)\n",
        "\n",
        "    return final_outputs\n",
        "\n",
        "#입력, 은닉, 출력 노드의 수\n",
        "input_nodes = 784\n",
        "hidden_nodes = 200\n",
        "output_nodes = 10\n",
        "\n",
        "#학습률은 0.3\n",
        "learning_rate = 0.1\n",
        "\n",
        "#신경망의 인스턴스 생성\n",
        "n = neuralNetwork(input_nodes, hidden_nodes, output_nodes, learning_rate)\n",
        "\n",
        "#mnist 학습 데이터인 csv 파일을 리스트로 불러오기\n",
        "training_data_file = open(\"/mnist_train.csv\", 'r')\n",
        "training_data_list = training_data_file.readlines()\n",
        "training_data_file.close()\n",
        "\n",
        "#신경망 학습시키기\n",
        "\n",
        "#주기 5로 설정\n",
        "epochs = 5\n",
        "\n",
        "for e in range(epochs):\n",
        "  for record in training_data_list:\n",
        "    #레코드를 쉼표에 의해 분리\n",
        "    all_values = record.split(',')\n",
        "    #입력 값의 범위와 값 조정\n",
        "    inputs = (np.asfarray(all_values[1:]) / 255.0 * 0.99) + 0.01\n",
        "    #결과 값 생성\n",
        "    targets = np.zeros(output_nodes) + 0.01\n",
        "    #all_values[0]은 이 레코드에 대한 결과 값\n",
        "    targets[int(all_values[0])] = 0.99\n",
        "    n.train(inputs, targets)\n",
        "    pass\n",
        "\n",
        "\n",
        "test_data_file = open(\"/mnist_test.csv\", \"r\")\n",
        "test_data_list = test_data_file.readlines()\n",
        "test_data_file.close()\n",
        "\n",
        "#신경망 테스트\n",
        "\n",
        "#신경망의 성능의 지표가 되는 성적표를 아무 값도 가지지 않도록 초기화\n",
        "scorecard = []\n",
        "\n",
        "#테스트 데이터 모음 내의 모든 레코드 검색\n",
        "for record in test_data_list:\n",
        "  all_values = record.split(',')\n",
        "  #정답은 첫 번째 값\n",
        "  correct_label = int(all_values[0])\n",
        "  #입력 값의 범위와 값 조정\n",
        "  inputs = (np.asfarray(all_values[1:]) / 255.0*0.99) + 0.01\n",
        "  #신경망에 질의\n",
        "  outputs = n.query(inputs)\n",
        "  #가장 높은 값의 인덱스는 레이블의 인덱스와 일치\n",
        "  label = np.argmax(outputs)\n",
        "  #정답 또는 오답을 리스트에 추가\n",
        "  if (label == correct_label):\n",
        "    scorecard.append(1)\n",
        "  else:\n",
        "    scorecard.append(0)\n",
        "    pass\n",
        "  pass\n",
        "\n",
        "\n",
        "scorecard_array = np.asarray(scorecard)\n",
        "print(\"performance =\", scorecard_array.sum() / scorecard_array.size)"
      ],
      "metadata": {
        "colab": {
          "base_uri": "https://localhost:8080/"
        },
        "id": "DP1XbaSreMCd",
        "outputId": "35bcc3f9-61bb-4428-ae97-3d7b8e6d17a2"
      },
      "execution_count": 9,
      "outputs": [
        {
          "output_type": "stream",
          "name": "stdout",
          "text": [
            "performance = 0.9732\n"
          ]
        }
      ]
    },
    {
      "cell_type": "markdown",
      "source": [
        "##직접 손글씨써서 실험해보기"
      ],
      "metadata": {
        "id": "Dzig_I_ugspI"
      }
    },
    {
      "cell_type": "code",
      "source": [
        "from PIL import Image\n",
        "import numpy as np\n",
        "\n",
        "def recognize_image(image_path):\n",
        "    # 이미지를 흑백으로 변환\n",
        "    img = Image.open(image_path).convert('L')\n",
        "\n",
        "    # 이미지를 1차원 배열로 변환\n",
        "    img_array = np.array(img).reshape(784)\n",
        "\n",
        "    # 이미지 데이터를 신경망의 입력 형식으로 변환\n",
        "    img_data = 255.0 - img_array\n",
        "    img_data = (img_data / 255.0 * 0.99) + 0.01\n",
        "\n",
        "    # 신경망에 질의\n",
        "    outputs = n.query(img_data)\n",
        "\n",
        "    # 가장 높은 값을 가진 인덱스 찾기\n",
        "    label = np.argmax(outputs)\n",
        "\n",
        "    return label\n",
        "\n",
        "# /seven.png 이미지 인식\n",
        "recognized_label = recognize_image(\"/seven.png\")\n",
        "print(\"Recognized label for /seven.png:\", recognized_label)"
      ],
      "metadata": {
        "colab": {
          "base_uri": "https://localhost:8080/"
        },
        "id": "rnXS_M9TPs3Z",
        "outputId": "987487d3-cfc2-460c-c525-660f5e9d7473"
      },
      "execution_count": 11,
      "outputs": [
        {
          "output_type": "stream",
          "name": "stdout",
          "text": [
            "Recognized label for /seven.png: 3\n"
          ]
        }
      ]
    },
    {
      "cell_type": "code",
      "source": [
        "def recognize_image(image_path):\n",
        "    # 이미지를 흑백으로 변환\n",
        "    img = Image.open(image_path).convert('L')\n",
        "\n",
        "    # 이미지를 1차원 배열로 변환\n",
        "    img_array = np.array(img).reshape(784)\n",
        "\n",
        "    # 이미지 데이터를 신경망의 입력 형식으로 변환\n",
        "    img_data = 255.0 - img_array\n",
        "    img_data = (img_data / 255.0 * 0.99) + 0.01\n",
        "\n",
        "    # 신경망에 질의\n",
        "    outputs = n.query(img_data)\n",
        "\n",
        "    # 가장 높은 값을 가진 인덱스 찾기\n",
        "    label = np.argmax(outputs)\n",
        "\n",
        "    return label\n",
        "\n",
        "# /two.png 이미지 인식\n",
        "recognized_label = recognize_image(\"/two.png\")\n",
        "print(\"Recognized label for /two.png:\", recognized_label)"
      ],
      "metadata": {
        "colab": {
          "base_uri": "https://localhost:8080/"
        },
        "id": "7O_XHi4QQgo_",
        "outputId": "7c929782-624a-4ae6-de43-7c4353f5fccb"
      },
      "execution_count": 13,
      "outputs": [
        {
          "output_type": "stream",
          "name": "stdout",
          "text": [
            "Recognized label for /two.png: 2\n"
          ]
        }
      ]
    },
    {
      "cell_type": "code",
      "source": [
        "def recognize_image(image_path):\n",
        "    # 이미지를 흑백으로 변환\n",
        "    img = Image.open(image_path).convert('L')\n",
        "\n",
        "    # 이미지를 1차원 배열로 변환\n",
        "    img_array = np.array(img).reshape(784)\n",
        "\n",
        "    # 이미지 데이터를 신경망의 입력 형식으로 변환\n",
        "    img_data = 255.0 - img_array\n",
        "    img_data = (img_data / 255.0 * 0.99) + 0.01\n",
        "\n",
        "    # 신경망에 질의\n",
        "    outputs = n.query(img_data)\n",
        "\n",
        "    # 가장 높은 값을 가진 인덱스 찾기\n",
        "    label = np.argmax(outputs)\n",
        "\n",
        "    return label\n",
        "\n",
        "# /two.png 이미지 인식\n",
        "recognized_label = recognize_image(\"/nine.png\")\n",
        "print(\"Recognized label for /nine.png:\", recognized_label)"
      ],
      "metadata": {
        "colab": {
          "base_uri": "https://localhost:8080/"
        },
        "id": "cgB-bHsbQi9l",
        "outputId": "6be6b45d-cfc5-471c-e0ae-c09dec00a35c"
      },
      "execution_count": 14,
      "outputs": [
        {
          "output_type": "stream",
          "name": "stdout",
          "text": [
            "Recognized label for /nine.png: 9\n"
          ]
        }
      ]
    },
    {
      "cell_type": "code",
      "source": [
        "def recognize_image(image_path):\n",
        "    # 이미지를 흑백으로 변환\n",
        "    img = Image.open(image_path).convert('L')\n",
        "\n",
        "    # 이미지를 1차원 배열로 변환\n",
        "    img_array = np.array(img).reshape(784)\n",
        "\n",
        "    # 이미지 데이터를 신경망의 입력 형식으로 변환\n",
        "    img_data = 255.0 - img_array\n",
        "    img_data = (img_data / 255.0 * 0.99) + 0.01\n",
        "\n",
        "    # 신경망에 질의\n",
        "    outputs = n.query(img_data)\n",
        "\n",
        "    # 가장 높은 값을 가진 인덱스 찾기\n",
        "    label = np.argmax(outputs)\n",
        "\n",
        "    return label\n",
        "\n",
        "# /two.png 이미지 인식\n",
        "recognized_label = recognize_image(\"/seven_2.png\")\n",
        "print(\"Recognized label for /seven_2.png:\", recognized_label)"
      ],
      "metadata": {
        "colab": {
          "base_uri": "https://localhost:8080/"
        },
        "id": "Psmk8UYbRlUT",
        "outputId": "4b710cd6-3863-4d9d-889b-ac9dac0c5a95"
      },
      "execution_count": 16,
      "outputs": [
        {
          "output_type": "stream",
          "name": "stdout",
          "text": [
            "Recognized label for /seven_2.png: 7\n"
          ]
        }
      ]
    }
  ]
}
